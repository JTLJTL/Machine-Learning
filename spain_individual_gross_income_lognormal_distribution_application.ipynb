{
 "cells": [
  {
   "cell_type": "markdown",
   "metadata": {
    "ExecuteTime": {
     "end_time": "2020-08-15T04:46:07.839734Z",
     "start_time": "2020-08-15T04:46:07.836734Z"
    }
   },
   "source": [
    "### Spain gross income distribution per person\n",
    "\n",
    "In this notebook I will develop on an application of the lognormal distribution.\n",
    "\n",
    "  Data of gross income per person in euros for Spain is fitted to a [lognormal distribution](https://en.wikipedia.org/wiki/Log-normal_distribution). The distribution of income has been succesfully modeled in economics for up to approximately 95% of the population of a country using a lognormal model. Data downloaded from Spain's [National Institute of Statistics](https://www.ine.es/index.htm) (INE - Instituto Nacional de Estadística) will be used to estimate the paremeters of the distribution.\n",
    "  \n",
    "  In order to understand the method used to derive the parameters of the distribution one should know what is:\n",
    "  - Normal distribution.\n",
    "  - Standard normal distribution.\n",
    "  - Lognormal distribution.\n",
    "  - Quantile.\n",
    "  - Logarithms and exponents.\n",
    "  - Basic optimization."
   ]
  },
  {
   "cell_type": "code",
   "execution_count": 1,
   "metadata": {
    "ExecuteTime": {
     "end_time": "2020-08-19T06:39:01.552106Z",
     "start_time": "2020-08-19T06:38:58.343246Z"
    }
   },
   "outputs": [],
   "source": [
    "import pandas as pd\n",
    "import numpy as np\n",
    "import matplotlib.pyplot as plt\n",
    "from scipy import stats\n",
    "from scipy.optimize import minimize"
   ]
  },
  {
   "cell_type": "code",
   "execution_count": 2,
   "metadata": {
    "ExecuteTime": {
     "end_time": "2020-08-19T06:39:01.586130Z",
     "start_time": "2020-08-19T06:39:01.554107Z"
    }
   },
   "outputs": [],
   "source": [
    "# Origin: https://www.ine.es/buscar/searchResults.do?searchString=%22Distribuci%C3%B3n+salarial%22&searchType=DEF_SEARCH&startat=0&L=0\n",
    "# Data uploaded to kaggle for ease of access: \n",
    "# https://www.kaggle.com/jtljtl/spain-salary-distribution\n",
    "df = pd.read_csv(\"spain_salary_distribution.csv\",sep=';',encoding='iso-8859-1')\n",
    "\n",
    "# Convert attribute \"Total\" from Object data type to float\n",
    "df[\"Total\"] = df[\"Total\"].apply(lambda x: float(x.replace('.','').replace(',','.')))\n",
    "\n",
    "# Map statistics in words to numbers\n",
    "qmap = {\"Cuartil superior\" : 0.75,\n",
    "        \"Cuartil inferior\" : 0.25,\n",
    "        \"Mediana\" : 0.5,\n",
    "        \"Percentil 90\" : 0.9,\n",
    "        \"Percentil 10\" : 0.1,\n",
    "        \"Media\" : np.nan}\n",
    "\n",
    "df[\"Percentil\"] = df[\"Medidas y percentiles\"].apply(lambda s: qmap.get(s))"
   ]
  },
  {
   "cell_type": "markdown",
   "metadata": {},
   "source": [
    "We are given statistics about the gross income in euros (Total), per person for Spain. We have in \"Medias y percentiles\":\n",
    "- The 10th percentile (Percentil 10).\n",
    "- The lower quartile (Cuartil inferior).\n",
    "- The median (Mediana).\n",
    "- The mean (Media).\n",
    "- The upper quartile (Cuartil superior).\n",
    "- The 90th percentile (Percentil 90).\n",
    "\n",
    "These statistics are seggregated by:\n",
    "\n",
    "- Gender (Sexo).\n",
    "- Year (Periodo).\n",
    "- State (Comunidades autónomas).\n",
    "\n",
    "In this notebook I will just explore total national incomes, but the analysis could be extended much futher, for example to gender, year and state."
   ]
  },
  {
   "cell_type": "code",
   "execution_count": 12,
   "metadata": {
    "ExecuteTime": {
     "end_time": "2020-08-15T05:17:50.784079Z",
     "start_time": "2020-08-15T05:17:50.764065Z"
    }
   },
   "outputs": [
    {
     "data": {
      "text/html": [
       "<div>\n",
       "<style scoped>\n",
       "    .dataframe tbody tr th:only-of-type {\n",
       "        vertical-align: middle;\n",
       "    }\n",
       "\n",
       "    .dataframe tbody tr th {\n",
       "        vertical-align: top;\n",
       "    }\n",
       "\n",
       "    .dataframe thead th {\n",
       "        text-align: right;\n",
       "    }\n",
       "</style>\n",
       "<table border=\"1\" class=\"dataframe\">\n",
       "  <thead>\n",
       "    <tr style=\"text-align: right;\">\n",
       "      <th></th>\n",
       "      <th>Comunidades autónomas</th>\n",
       "      <th>Sexo</th>\n",
       "      <th>Medidas y percentiles</th>\n",
       "      <th>Periodo</th>\n",
       "      <th>Total</th>\n",
       "      <th>Percentil</th>\n",
       "    </tr>\n",
       "  </thead>\n",
       "  <tbody>\n",
       "    <tr>\n",
       "      <th>820</th>\n",
       "      <td>Balears, Illes</td>\n",
       "      <td>Mujeres</td>\n",
       "      <td>Cuartil superior</td>\n",
       "      <td>2017</td>\n",
       "      <td>24565.83</td>\n",
       "      <td>0.75</td>\n",
       "    </tr>\n",
       "    <tr>\n",
       "      <th>2182</th>\n",
       "      <td>Galicia</td>\n",
       "      <td>Ambos sexos</td>\n",
       "      <td>Cuartil inferior</td>\n",
       "      <td>2015</td>\n",
       "      <td>13199.46</td>\n",
       "      <td>0.25</td>\n",
       "    </tr>\n",
       "    <tr>\n",
       "      <th>1938</th>\n",
       "      <td>Comunitat Valenciana</td>\n",
       "      <td>Hombres</td>\n",
       "      <td>Percentil 10</td>\n",
       "      <td>2009</td>\n",
       "      <td>11080.21</td>\n",
       "      <td>0.10</td>\n",
       "    </tr>\n",
       "    <tr>\n",
       "      <th>2347</th>\n",
       "      <td>Madrid, Comunidad de</td>\n",
       "      <td>Ambos sexos</td>\n",
       "      <td>Media</td>\n",
       "      <td>2010</td>\n",
       "      <td>25988.95</td>\n",
       "      <td>NaN</td>\n",
       "    </tr>\n",
       "    <tr>\n",
       "      <th>2209</th>\n",
       "      <td>Galicia</td>\n",
       "      <td>Ambos sexos</td>\n",
       "      <td>Cuartil superior</td>\n",
       "      <td>2008</td>\n",
       "      <td>23001.97</td>\n",
       "      <td>0.75</td>\n",
       "    </tr>\n",
       "    <tr>\n",
       "      <th>1134</th>\n",
       "      <td>Cantabria</td>\n",
       "      <td>Ambos sexos</td>\n",
       "      <td>Percentil 90</td>\n",
       "      <td>2013</td>\n",
       "      <td>35467.68</td>\n",
       "      <td>0.90</td>\n",
       "    </tr>\n",
       "    <tr>\n",
       "      <th>1160</th>\n",
       "      <td>Cantabria</td>\n",
       "      <td>Mujeres</td>\n",
       "      <td>Cuartil inferior</td>\n",
       "      <td>2017</td>\n",
       "      <td>11223.96</td>\n",
       "      <td>0.25</td>\n",
       "    </tr>\n",
       "    <tr>\n",
       "      <th>468</th>\n",
       "      <td>Aragón</td>\n",
       "      <td>Mujeres</td>\n",
       "      <td>Cuartil superior</td>\n",
       "      <td>2009</td>\n",
       "      <td>22993.08</td>\n",
       "      <td>0.75</td>\n",
       "    </tr>\n",
       "    <tr>\n",
       "      <th>2276</th>\n",
       "      <td>Galicia</td>\n",
       "      <td>Mujeres</td>\n",
       "      <td>Percentil 90</td>\n",
       "      <td>2011</td>\n",
       "      <td>30532.17</td>\n",
       "      <td>0.90</td>\n",
       "    </tr>\n",
       "    <tr>\n",
       "      <th>2101</th>\n",
       "      <td>Extremadura</td>\n",
       "      <td>Hombres</td>\n",
       "      <td>Media</td>\n",
       "      <td>2016</td>\n",
       "      <td>21554.75</td>\n",
       "      <td>NaN</td>\n",
       "    </tr>\n",
       "    <tr>\n",
       "      <th>1680</th>\n",
       "      <td>Cataluña</td>\n",
       "      <td>Mujeres</td>\n",
       "      <td>Media</td>\n",
       "      <td>2017</td>\n",
       "      <td>21801.47</td>\n",
       "      <td>NaN</td>\n",
       "    </tr>\n",
       "    <tr>\n",
       "      <th>3236</th>\n",
       "      <td>Rioja, La</td>\n",
       "      <td>Hombres</td>\n",
       "      <td>Percentil 90</td>\n",
       "      <td>2011</td>\n",
       "      <td>38106.71</td>\n",
       "      <td>0.90</td>\n",
       "    </tr>\n",
       "    <tr>\n",
       "      <th>1198</th>\n",
       "      <td>Cantabria</td>\n",
       "      <td>Mujeres</td>\n",
       "      <td>Percentil 90</td>\n",
       "      <td>2009</td>\n",
       "      <td>35207.22</td>\n",
       "      <td>0.90</td>\n",
       "    </tr>\n",
       "    <tr>\n",
       "      <th>2485</th>\n",
       "      <td>Madrid, Comunidad de</td>\n",
       "      <td>Hombres</td>\n",
       "      <td>Cuartil inferior</td>\n",
       "      <td>2012</td>\n",
       "      <td>16338.12</td>\n",
       "      <td>0.25</td>\n",
       "    </tr>\n",
       "    <tr>\n",
       "      <th>1335</th>\n",
       "      <td>Castilla y León</td>\n",
       "      <td>Mujeres</td>\n",
       "      <td>Percentil 10</td>\n",
       "      <td>2012</td>\n",
       "      <td>6076.19</td>\n",
       "      <td>0.10</td>\n",
       "    </tr>\n",
       "    <tr>\n",
       "      <th>2221</th>\n",
       "      <td>Galicia</td>\n",
       "      <td>Mujeres</td>\n",
       "      <td>Media</td>\n",
       "      <td>2016</td>\n",
       "      <td>18294.47</td>\n",
       "      <td>NaN</td>\n",
       "    </tr>\n",
       "    <tr>\n",
       "      <th>50</th>\n",
       "      <td>Total Nacional</td>\n",
       "      <td>Ambos sexos</td>\n",
       "      <td>Percentil 90</td>\n",
       "      <td>2017</td>\n",
       "      <td>42454.21</td>\n",
       "      <td>0.90</td>\n",
       "    </tr>\n",
       "    <tr>\n",
       "      <th>1357</th>\n",
       "      <td>Castilla y León</td>\n",
       "      <td>Mujeres</td>\n",
       "      <td>Mediana</td>\n",
       "      <td>2010</td>\n",
       "      <td>15103.16</td>\n",
       "      <td>0.50</td>\n",
       "    </tr>\n",
       "    <tr>\n",
       "      <th>788</th>\n",
       "      <td>Balears, Illes</td>\n",
       "      <td>Mujeres</td>\n",
       "      <td>Media</td>\n",
       "      <td>2009</td>\n",
       "      <td>18702.72</td>\n",
       "      <td>NaN</td>\n",
       "    </tr>\n",
       "    <tr>\n",
       "      <th>635</th>\n",
       "      <td>Asturias, Principado de</td>\n",
       "      <td>Mujeres</td>\n",
       "      <td>Mediana</td>\n",
       "      <td>2012</td>\n",
       "      <td>15474.56</td>\n",
       "      <td>0.50</td>\n",
       "    </tr>\n",
       "  </tbody>\n",
       "</table>\n",
       "</div>"
      ],
      "text/plain": [
       "        Comunidades autónomas         Sexo Medidas y percentiles  Periodo  \\\n",
       "820            Balears, Illes      Mujeres      Cuartil superior     2017   \n",
       "2182                  Galicia  Ambos sexos      Cuartil inferior     2015   \n",
       "1938     Comunitat Valenciana      Hombres          Percentil 10     2009   \n",
       "2347     Madrid, Comunidad de  Ambos sexos                 Media     2010   \n",
       "2209                  Galicia  Ambos sexos      Cuartil superior     2008   \n",
       "1134                Cantabria  Ambos sexos          Percentil 90     2013   \n",
       "1160                Cantabria      Mujeres      Cuartil inferior     2017   \n",
       "468                    Aragón      Mujeres      Cuartil superior     2009   \n",
       "2276                  Galicia      Mujeres          Percentil 90     2011   \n",
       "2101              Extremadura      Hombres                 Media     2016   \n",
       "1680                 Cataluña      Mujeres                 Media     2017   \n",
       "3236                Rioja, La      Hombres          Percentil 90     2011   \n",
       "1198                Cantabria      Mujeres          Percentil 90     2009   \n",
       "2485     Madrid, Comunidad de      Hombres      Cuartil inferior     2012   \n",
       "1335          Castilla y León      Mujeres          Percentil 10     2012   \n",
       "2221                  Galicia      Mujeres                 Media     2016   \n",
       "50             Total Nacional  Ambos sexos          Percentil 90     2017   \n",
       "1357          Castilla y León      Mujeres               Mediana     2010   \n",
       "788            Balears, Illes      Mujeres                 Media     2009   \n",
       "635   Asturias, Principado de      Mujeres               Mediana     2012   \n",
       "\n",
       "         Total  Percentil  \n",
       "820   24565.83       0.75  \n",
       "2182  13199.46       0.25  \n",
       "1938  11080.21       0.10  \n",
       "2347  25988.95        NaN  \n",
       "2209  23001.97       0.75  \n",
       "1134  35467.68       0.90  \n",
       "1160  11223.96       0.25  \n",
       "468   22993.08       0.75  \n",
       "2276  30532.17       0.90  \n",
       "2101  21554.75        NaN  \n",
       "1680  21801.47        NaN  \n",
       "3236  38106.71       0.90  \n",
       "1198  35207.22       0.90  \n",
       "2485  16338.12       0.25  \n",
       "1335   6076.19       0.10  \n",
       "2221  18294.47        NaN  \n",
       "50    42454.21       0.90  \n",
       "1357  15103.16       0.50  \n",
       "788   18702.72        NaN  \n",
       "635   15474.56       0.50  "
      ]
     },
     "execution_count": 12,
     "metadata": {},
     "output_type": "execute_result"
    }
   ],
   "source": [
    "df.sample(20)"
   ]
  },
  {
   "cell_type": "code",
   "execution_count": 10,
   "metadata": {
    "ExecuteTime": {
     "end_time": "2020-08-15T05:06:22.433566Z",
     "start_time": "2020-08-15T05:06:22.402547Z"
    }
   },
   "outputs": [],
   "source": [
    "filter_df = lambda c,s,m: (df.iloc[:,0] == c) & (df.iloc[:,1] == s) & (df.iloc[:,2] == m)\n",
    "df_filter = filter_df('Total Nacional','Ambos sexos','Mediana')\n",
    "df_filter2 = filter_df('Total Nacional','Ambos sexos','Media')\n",
    "df_filter3 = filter_df('Total Nacional','Ambos sexos','Cuartil inferior')\n",
    "df_filter4 = filter_df('Total Nacional','Ambos sexos','Cuartil superior')\n",
    "df_filter5 = filter_df('Total Nacional','Ambos sexos','Percentil 90')\n",
    "df_filter6 = filter_df('Total Nacional','Ambos sexos','Percentil 10')"
   ]
  },
  {
   "cell_type": "code",
   "execution_count": 11,
   "metadata": {
    "ExecuteTime": {
     "end_time": "2020-08-15T05:06:22.969947Z",
     "start_time": "2020-08-15T05:06:22.539641Z"
    }
   },
   "outputs": [
    {
     "data": {
      "image/png": "[encoded data removed]",
      "text/plain": [
       "<Figure size 1440x720 with 1 Axes>"
      ]
     },
     "metadata": {
      "needs_background": "light"
     },
     "output_type": "display_data"
    }
   ],
   "source": [
    "fig = plt.figure(figsize=(20,10))\n",
    "axes = plt.gca()\n",
    "axes.set_xlim([2008,2017])\n",
    "axes.set_ylim([5000,50000])\n",
    "\n",
    "plt.plot(df[df_filter][\"Periodo\"],df[df_filter][\"Total\"],label='Median')\n",
    "plt.plot(df[df_filter2][\"Periodo\"],df[df_filter2][\"Total\"],label=\"Mean\")\n",
    "plt.plot(df[df_filter3][\"Periodo\"],df[df_filter3][\"Total\"],label='Lower quartile')\n",
    "plt.plot(df[df_filter4][\"Periodo\"],df[df_filter4][\"Total\"],label='Upper quartile')\n",
    "plt.plot(df[df_filter5][\"Periodo\"],df[df_filter5][\"Total\"],label='90th percentile')\n",
    "plt.plot(df[df_filter6][\"Periodo\"],df[df_filter6][\"Total\"],label='10th percentile')\n",
    "plt.title('Gross salaries per year and person')\n",
    "plt.legend(loc='upper left')\n",
    "plt.grid()\n",
    "plt.ylabel('Gross salary (euros)')\n",
    "plt.xlabel('Year')\n",
    "plt.show()"
   ]
  },
  {
   "cell_type": "markdown",
   "metadata": {
    "ExecuteTime": {
     "end_time": "2020-08-14T18:39:25.319849Z",
     "start_time": "2020-08-14T18:39:25.316846Z"
    }
   },
   "source": [
    "### Fitting data to a lognormal distribution\n",
    "\n",
    "\n",
    "$ X \\sim Lognorm(\\mu, \\sigma^2) $\n",
    "\n",
    "I suppose that the income is distributed lognormally between the 10th and 90th percentiles. To find the parameters of the distribution, I use the analytic formula for the median of the distribution:\n",
    "\n",
    "$$ median = e^\\mu \\implies \\mu = log(median) \\qquad (1)$$\n",
    "\n",
    "For the standard deviation ($\\sigma$), we know since it is lognormal distribution that:\n",
    "\n",
    "$$ q = P(X \\leq x_q) = \\Phi\\left(Z \\leq \\frac{log(x_q) - \\mu}{\\sigma}\\right) \\qquad (2)$$\n",
    "\n",
    "The quantiles given and the logarithm of their respective values follow a normal distribution, so we can standardize the income random variable and find the corresponding values of the standard normal random variable that corresponds to those quantiles."
   ]
  },
  {
   "cell_type": "code",
   "execution_count": 15,
   "metadata": {
    "ExecuteTime": {
     "end_time": "2020-08-15T05:28:51.897486Z",
     "start_time": "2020-08-15T05:28:51.890480Z"
    }
   },
   "outputs": [
    {
     "data": {
      "text/plain": [
       "array([-1.28155157, -0.67448975,  0.        ,  0.67448975,  1.28155157])"
      ]
     },
     "execution_count": 15,
     "metadata": {},
     "output_type": "execute_result"
    }
   ],
   "source": [
    "quantiles = [0.1,0.25,0.5,0.75,0.9]\n",
    "z = stats.norm.ppf(quantiles)\n",
    "z"
   ]
  },
  {
   "cell_type": "markdown",
   "metadata": {},
   "source": [
    "Now associate values of the income to those quantiles, which we can do visually by looking at the plot above so, approximately:\n"
   ]
  },
  {
   "cell_type": "code",
   "execution_count": 16,
   "metadata": {
    "ExecuteTime": {
     "end_time": "2020-08-15T05:30:30.118192Z",
     "start_time": "2020-08-15T05:30:30.114189Z"
    }
   },
   "outputs": [],
   "source": [
    "xq = [9000,14000,20000,30000,42000]"
   ]
  },
  {
   "cell_type": "markdown",
   "metadata": {},
   "source": [
    "Since we know $\\mu$ by (1), $X_q$ and $q$ by data, and $Z$ by calculation, we can compute sigma by minimizing the squared error in (2):\n",
    "\n",
    "$$ Error(\\sigma) = \\sum_i^n \\left(z_i - \\frac{log(x_{qi}) - \\mu}{\\sigma} \\right)^2 \\qquad (3)$$"
   ]
  },
  {
   "cell_type": "code",
   "execution_count": 41,
   "metadata": {
    "ExecuteTime": {
     "end_time": "2020-08-15T06:02:35.780995Z",
     "start_time": "2020-08-15T06:02:35.768987Z"
    }
   },
   "outputs": [
    {
     "data": {
      "text/plain": [
       "array([0.59468505])"
      ]
     },
     "execution_count": 41,
     "metadata": {},
     "output_type": "execute_result"
    }
   ],
   "source": [
    "# scipy parametrization. mu calculated as in (1)\n",
    "loc = np.log(20000) # (1): mu = log(median)\n",
    "\n",
    "# Define the error function as in (3)\n",
    "error = lambda sigma: sum((zi - (np.log(xqi)-loc)/sigma)**2 for zi,xqi in zip(z,xq))\n",
    "\n",
    "# Initial guess as in (4)\n",
    "sigma = lambda mean, mu: (2*(np.log(mean)-mu))**0.5\n",
    "x0 = sigma(30000,loc)\n",
    "\n",
    "# Minimize it. res.x contains the value of the parameter\n",
    "res = minimize(error, x0=x0, method='Nelder-Mead', tol=1e-6)\n",
    "res.x"
   ]
  },
  {
   "cell_type": "markdown",
   "metadata": {},
   "source": [
    "$x0$ is an estimate of the parameter being minimized. I set it to one by using the formula:\n",
    "\n",
    "$$ mean = exp\\left(\\mu + \\frac{\\sigma^2}{2}\\right) \\implies \\sigma^2 = 2log(mean) - 2\\mu \\qquad (4)$$\n",
    "\n",
    "Since we know the mean (data) and $\\mu$ we can use (4) to find a educated guess of $\\sigma$:"
   ]
  },
  {
   "cell_type": "code",
   "execution_count": 40,
   "metadata": {
    "ExecuteTime": {
     "end_time": "2020-08-15T05:56:38.017909Z",
     "start_time": "2020-08-15T05:56:38.010904Z"
    }
   },
   "outputs": [
    {
     "data": {
      "text/plain": [
       "0.9005166385005504"
      ]
     },
     "execution_count": 40,
     "metadata": {},
     "output_type": "execute_result"
    }
   ],
   "source": [
    "sigma(30000,np.log(20000))"
   ]
  },
  {
   "cell_type": "markdown",
   "metadata": {},
   "source": [
    "Which is close to the optimized value of 0.594, and thus is a good initial guess for an starting point.\n",
    "\n",
    "This is only one of the many possible ways of estimating the parameters of the distribution. I used this method since we were given quantiles and not the sampled data. So the idea is to fit the quantiles to the CDF of the lognormal distribution."
   ]
  },
  {
   "cell_type": "code",
   "execution_count": 21,
   "metadata": {
    "ExecuteTime": {
     "end_time": "2020-08-15T05:40:13.847457Z",
     "start_time": "2020-08-15T05:40:13.833447Z"
    }
   },
   "outputs": [],
   "source": [
    " t = pd.concat([df[df_filter][\"Total\"],\n",
    "          df[df_filter2][\"Total\"],\n",
    "          df[df_filter3][\"Total\"],\n",
    "          df[df_filter4][\"Total\"],\n",
    "          df[df_filter5][\"Total\"],\n",
    "          df[df_filter6][\"Total\"]])\n",
    "\n",
    "# Generate samples from the calculated distribution to make plots\n",
    "q = np.arange(0.1,0.91,0.01)\n",
    "x = stats.lognorm.ppf(q,s=res.x,scale=20000)"
   ]
  },
  {
   "cell_type": "code",
   "execution_count": 27,
   "metadata": {
    "ExecuteTime": {
     "end_time": "2020-08-15T05:41:48.522646Z",
     "start_time": "2020-08-15T05:41:48.152384Z"
    }
   },
   "outputs": [
    {
     "data": {
      "image/png": "[encoded data removed]",
      "text/plain": [
       "<Figure size 1440x720 with 1 Axes>"
      ]
     },
     "metadata": {
      "needs_background": "light"
     },
     "output_type": "display_data"
    }
   ],
   "source": [
    "fig = plt.figure(figsize=(20,10))\n",
    "axes = plt.gca()\n",
    "\n",
    "plt.plot(df[df_filter][\"Total\"],df[df_filter][\"Percentil\"])\n",
    "plt.plot(df[df_filter3][\"Total\"],df[df_filter3][\"Percentil\"])\n",
    "plt.plot(df[df_filter4][\"Total\"],df[df_filter4][\"Percentil\"])\n",
    "plt.plot(df[df_filter5][\"Total\"],df[df_filter5][\"Percentil\"])\n",
    "plt.plot(df[df_filter6][\"Total\"],df[df_filter6][\"Percentil\"])\n",
    "plt.scatter(xq,quantiles)\n",
    "plt.plot(x,q)\n",
    "\n",
    "plt.title('Lognormal distribution fitted to data')\n",
    "plt.grid()\n",
    "plt.xlabel('Gross salary (euros)')\n",
    "plt.ylabel('CDF')\n",
    "plt.show()"
   ]
  },
  {
   "cell_type": "code",
   "execution_count": 381,
   "metadata": {
    "ExecuteTime": {
     "end_time": "2020-08-14T19:16:05.732421Z",
     "start_time": "2020-08-14T19:16:05.539287Z"
    }
   },
   "outputs": [
    {
     "data": {
      "image/png": "[encoded data removed]",
      "text/plain": [
       "<Figure size 432x288 with 1 Axes>"
      ]
     },
     "metadata": {
      "needs_background": "light"
     },
     "output_type": "display_data"
    }
   ],
   "source": [
    "xinc = np.arange(8000,43000,100)\n",
    "plt.plot(xinc, stats.lognorm.pdf(xinc,s=res.x,scale=20000))\n",
    "plt.xlabel('Gross income in euros')\n",
    "plt.ylabel('pdf(x)')\n",
    "plt.grid()\n",
    "plt.title('Probability density function of a lognormal distribution fitted to income data')\n",
    "plt.show()"
   ]
  },
  {
   "cell_type": "markdown",
   "metadata": {},
   "source": [
    "As can be seen from the plot of the cumulative distribution function, the lognormal distribution fits the data accurately. Now that we have the distribution and its parameters we can compute any value and its percentiles. This can be useful to estimate how much can the country expect to collect in taxes from this range of the population, or to asses where does a person lie in the salary distribution, which could be useful to stablish public aid programs. Notice also that the mode is around 13000 euros, which means that most frequent value for the income of a person in Spain is approximately 980 euros per month after taxes."
   ]
  },
  {
   "cell_type": "markdown",
   "metadata": {},
   "source": [
    "### Data cleaning\n",
    "Data will be cleaned and translated to english where convinient."
   ]
  },
  {
   "cell_type": "code",
   "execution_count": 30,
   "metadata": {
    "ExecuteTime": {
     "end_time": "2020-08-19T06:57:09.792405Z",
     "start_time": "2020-08-19T06:57:09.767377Z"
    }
   },
   "outputs": [],
   "source": [
    "df2 = df.copy()\n",
    "\n",
    "df2[\"year\"] = df2[\"Periodo\"]\n",
    "df2.drop(columns=\"Periodo\", inplace=True)\n",
    "\n",
    "df2[\"gross_income_euros\"] = df2[\"Total\"]\n",
    "df2.drop(columns=\"Total\", inplace=True)\n",
    "\n",
    "# Map gender\n",
    "gmap = {\"Mujeres\": \"female\",\n",
    "        \"Ambos sexos\" : \"both\",\n",
    "        \"Hombres\": \"male\"}\n",
    "\n",
    "df2[\"gender\"] = df2[\"Sexo\"].apply(lambda s: gmap.get(s))\n",
    "df2.drop(columns=\"Sexo\", inplace=True)\n",
    "\n",
    "# Map statistics in words to numbers\n",
    "smap = {\"Cuartil superior\" : \"upper_quartile\",\n",
    "        \"Cuartil inferior\" : \"lower_quartile\",\n",
    "        \"Mediana\" : \"median\",\n",
    "        \"Percentil 90\" : \"90th_percentile\",\n",
    "        \"Percentil 10\" : \"10th_percentile\",\n",
    "        \"Media\" : \"mean\"}\n",
    "\n",
    "df2[\"statistic\"] = df2[\"Medidas y percentiles\"].apply(lambda s: smap.get(s))\n",
    "df2.drop(columns=\"Medidas y percentiles\", inplace=True)\n",
    "\n",
    "df2.drop(columns=\"Percentil\",inplace=True)\n",
    "\n",
    "# State mapping\n",
    "df2[\"state\"] = df2[\"Comunidades autónomas\"].apply(lambda s: 'nationwide' if s == 'Total Nacional' else s)\n",
    "df2.drop(columns=\"Comunidades autónomas\",inplace=True)\n",
    "\n",
    "df2 = pd.DataFrame(df2,columns=['year','state','gender','statistic','gross_income_euros'])\n",
    "\n",
    "# df2.to_csv('spain_salary_distribution_v2.csv',encoding='utf-8',index=False)"
   ]
  },
  {
   "cell_type": "code",
   "execution_count": 38,
   "metadata": {
    "ExecuteTime": {
     "end_time": "2020-08-19T07:02:56.756691Z",
     "start_time": "2020-08-19T07:02:56.741679Z"
    }
   },
   "outputs": [
    {
     "data": {
      "text/html": [
       "<div>\n",
       "<style scoped>\n",
       "    .dataframe tbody tr th:only-of-type {\n",
       "        vertical-align: middle;\n",
       "    }\n",
       "\n",
       "    .dataframe tbody tr th {\n",
       "        vertical-align: top;\n",
       "    }\n",
       "\n",
       "    .dataframe thead th {\n",
       "        text-align: right;\n",
       "    }\n",
       "</style>\n",
       "<table border=\"1\" class=\"dataframe\">\n",
       "  <thead>\n",
       "    <tr style=\"text-align: right;\">\n",
       "      <th></th>\n",
       "      <th>year</th>\n",
       "      <th>state</th>\n",
       "      <th>gender</th>\n",
       "      <th>statistic</th>\n",
       "      <th>gross_income_euros</th>\n",
       "    </tr>\n",
       "  </thead>\n",
       "  <tbody>\n",
       "    <tr>\n",
       "      <th>1941</th>\n",
       "      <td>2016</td>\n",
       "      <td>Comunitat Valenciana</td>\n",
       "      <td>male</td>\n",
       "      <td>lower_quartile</td>\n",
       "      <td>15376.32</td>\n",
       "    </tr>\n",
       "    <tr>\n",
       "      <th>1188</th>\n",
       "      <td>2009</td>\n",
       "      <td>Cantabria</td>\n",
       "      <td>female</td>\n",
       "      <td>upper_quartile</td>\n",
       "      <td>23159.33</td>\n",
       "    </tr>\n",
       "    <tr>\n",
       "      <th>3134</th>\n",
       "      <td>2013</td>\n",
       "      <td>Rioja, La</td>\n",
       "      <td>female</td>\n",
       "      <td>10th_percentile</td>\n",
       "      <td>6924.70</td>\n",
       "    </tr>\n",
       "    <tr>\n",
       "      <th>3072</th>\n",
       "      <td>2015</td>\n",
       "      <td>Rioja, La</td>\n",
       "      <td>both</td>\n",
       "      <td>10th_percentile</td>\n",
       "      <td>7519.28</td>\n",
       "    </tr>\n",
       "    <tr>\n",
       "      <th>1404</th>\n",
       "      <td>2013</td>\n",
       "      <td>Castilla y León</td>\n",
       "      <td>male</td>\n",
       "      <td>lower_quartile</td>\n",
       "      <td>15099.09</td>\n",
       "    </tr>\n",
       "    <tr>\n",
       "      <th>2409</th>\n",
       "      <td>2008</td>\n",
       "      <td>Madrid, Comunidad de</td>\n",
       "      <td>female</td>\n",
       "      <td>mean</td>\n",
       "      <td>21787.75</td>\n",
       "    </tr>\n",
       "    <tr>\n",
       "      <th>100</th>\n",
       "      <td>2017</td>\n",
       "      <td>nationwide</td>\n",
       "      <td>female</td>\n",
       "      <td>upper_quartile</td>\n",
       "      <td>26174.19</td>\n",
       "    </tr>\n",
       "    <tr>\n",
       "      <th>2619</th>\n",
       "      <td>2008</td>\n",
       "      <td>Murcia, Región de</td>\n",
       "      <td>female</td>\n",
       "      <td>median</td>\n",
       "      <td>13626.31</td>\n",
       "    </tr>\n",
       "    <tr>\n",
       "      <th>2548</th>\n",
       "      <td>2009</td>\n",
       "      <td>Murcia, Región de</td>\n",
       "      <td>both</td>\n",
       "      <td>lower_quartile</td>\n",
       "      <td>12492.00</td>\n",
       "    </tr>\n",
       "    <tr>\n",
       "      <th>2945</th>\n",
       "      <td>2012</td>\n",
       "      <td>País Vasco</td>\n",
       "      <td>female</td>\n",
       "      <td>mean</td>\n",
       "      <td>22313.41</td>\n",
       "    </tr>\n",
       "    <tr>\n",
       "      <th>726</th>\n",
       "      <td>2011</td>\n",
       "      <td>Balears, Illes</td>\n",
       "      <td>both</td>\n",
       "      <td>mean</td>\n",
       "      <td>21351.00</td>\n",
       "    </tr>\n",
       "    <tr>\n",
       "      <th>1679</th>\n",
       "      <td>2008</td>\n",
       "      <td>Cataluña</td>\n",
       "      <td>both</td>\n",
       "      <td>90th_percentile</td>\n",
       "      <td>40774.57</td>\n",
       "    </tr>\n",
       "    <tr>\n",
       "      <th>1939</th>\n",
       "      <td>2008</td>\n",
       "      <td>Comunitat Valenciana</td>\n",
       "      <td>male</td>\n",
       "      <td>10th_percentile</td>\n",
       "      <td>11708.08</td>\n",
       "    </tr>\n",
       "    <tr>\n",
       "      <th>1763</th>\n",
       "      <td>2014</td>\n",
       "      <td>Cataluña</td>\n",
       "      <td>male</td>\n",
       "      <td>lower_quartile</td>\n",
       "      <td>16984.00</td>\n",
       "    </tr>\n",
       "    <tr>\n",
       "      <th>2658</th>\n",
       "      <td>2009</td>\n",
       "      <td>Murcia, Región de</td>\n",
       "      <td>male</td>\n",
       "      <td>10th_percentile</td>\n",
       "      <td>10827.66</td>\n",
       "    </tr>\n",
       "    <tr>\n",
       "      <th>1137</th>\n",
       "      <td>2010</td>\n",
       "      <td>Cantabria</td>\n",
       "      <td>both</td>\n",
       "      <td>90th_percentile</td>\n",
       "      <td>37152.52</td>\n",
       "    </tr>\n",
       "    <tr>\n",
       "      <th>2568</th>\n",
       "      <td>2009</td>\n",
       "      <td>Murcia, Región de</td>\n",
       "      <td>both</td>\n",
       "      <td>upper_quartile</td>\n",
       "      <td>25574.89</td>\n",
       "    </tr>\n",
       "    <tr>\n",
       "      <th>2070</th>\n",
       "      <td>2017</td>\n",
       "      <td>Extremadura</td>\n",
       "      <td>female</td>\n",
       "      <td>median</td>\n",
       "      <td>14998.80</td>\n",
       "    </tr>\n",
       "    <tr>\n",
       "      <th>1702</th>\n",
       "      <td>2015</td>\n",
       "      <td>Cataluña</td>\n",
       "      <td>female</td>\n",
       "      <td>lower_quartile</td>\n",
       "      <td>11824.84</td>\n",
       "    </tr>\n",
       "    <tr>\n",
       "      <th>34</th>\n",
       "      <td>2013</td>\n",
       "      <td>nationwide</td>\n",
       "      <td>both</td>\n",
       "      <td>median</td>\n",
       "      <td>19029.66</td>\n",
       "    </tr>\n",
       "  </tbody>\n",
       "</table>\n",
       "</div>"
      ],
      "text/plain": [
       "      year                 state  gender        statistic  gross_income_euros\n",
       "1941  2016  Comunitat Valenciana    male   lower_quartile            15376.32\n",
       "1188  2009             Cantabria  female   upper_quartile            23159.33\n",
       "3134  2013             Rioja, La  female  10th_percentile             6924.70\n",
       "3072  2015             Rioja, La    both  10th_percentile             7519.28\n",
       "1404  2013       Castilla y León    male   lower_quartile            15099.09\n",
       "2409  2008  Madrid, Comunidad de  female             mean            21787.75\n",
       "100   2017            nationwide  female   upper_quartile            26174.19\n",
       "2619  2008     Murcia, Región de  female           median            13626.31\n",
       "2548  2009     Murcia, Región de    both   lower_quartile            12492.00\n",
       "2945  2012            País Vasco  female             mean            22313.41\n",
       "726   2011        Balears, Illes    both             mean            21351.00\n",
       "1679  2008              Cataluña    both  90th_percentile            40774.57\n",
       "1939  2008  Comunitat Valenciana    male  10th_percentile            11708.08\n",
       "1763  2014              Cataluña    male   lower_quartile            16984.00\n",
       "2658  2009     Murcia, Región de    male  10th_percentile            10827.66\n",
       "1137  2010             Cantabria    both  90th_percentile            37152.52\n",
       "2568  2009     Murcia, Región de    both   upper_quartile            25574.89\n",
       "2070  2017           Extremadura  female           median            14998.80\n",
       "1702  2015              Cataluña  female   lower_quartile            11824.84\n",
       "34    2013            nationwide    both           median            19029.66"
      ]
     },
     "execution_count": 38,
     "metadata": {},
     "output_type": "execute_result"
    }
   ],
   "source": [
    "df2.sample(20)"
   ]
  },
  {
   "cell_type": "code",
   "execution_count": null,
   "metadata": {},
   "outputs": [],
   "source": []
  }
 ],
 "metadata": {
  "kernelspec": {
   "display_name": "Python 3",
   "language": "python",
   "name": "python3"
  }
 },
 "nbformat": 4,
 "nbformat_minor": 2
}
